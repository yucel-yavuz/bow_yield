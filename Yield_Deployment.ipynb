{
 "cells": [
  {
   "cell_type": "code",
   "execution_count": 4,
   "id": "d0cd812f-ef01-4c1b-b2e9-850cabcc9f8e",
   "metadata": {},
   "outputs": [],
   "source": [
    "import numpy as np\n",
    "import pandas as pd\n",
    "import matplotlib.pyplot as plt\n",
    "import seaborn as sns\n",
    "import scipy.stats as stats\n",
    "plt.rcParams[\"figure.figsize\"] = (10,6)\n",
    "import warnings\n",
    "warnings.filterwarnings('ignore')"
   ]
  },
  {
   "cell_type": "code",
   "execution_count": 5,
   "id": "888543cb-d253-46a5-9bb6-f3c75f5c3789",
   "metadata": {},
   "outputs": [],
   "source": [
    "df = pd.read_csv('EDA_clean_yield.csv')"
   ]
  },
  {
   "cell_type": "code",
   "execution_count": 6,
   "id": "991b87ac-0aee-4936-8017-bba20e3f54a6",
   "metadata": {},
   "outputs": [
    {
     "data": {
      "text/html": [
       "<div>\n",
       "<style scoped>\n",
       "    .dataframe tbody tr th:only-of-type {\n",
       "        vertical-align: middle;\n",
       "    }\n",
       "\n",
       "    .dataframe tbody tr th {\n",
       "        vertical-align: top;\n",
       "    }\n",
       "\n",
       "    .dataframe thead th {\n",
       "        text-align: right;\n",
       "    }\n",
       "</style>\n",
       "<table border=\"1\" class=\"dataframe\">\n",
       "  <thead>\n",
       "    <tr style=\"text-align: right;\">\n",
       "      <th></th>\n",
       "      <th>component_name</th>\n",
       "      <th>cultivar_name</th>\n",
       "      <th>harvest_yield</th>\n",
       "      <th>humidity_rh</th>\n",
       "      <th>temperature_c</th>\n",
       "      <th>vapor_pressure_deficit</th>\n",
       "      <th>co2_ppm</th>\n",
       "      <th>fan_intensity</th>\n",
       "      <th>light_intensity</th>\n",
       "      <th>light_on_minutes</th>\n",
       "      <th>irrigation_minutes</th>\n",
       "      <th>grow_room</th>\n",
       "    </tr>\n",
       "  </thead>\n",
       "  <tbody>\n",
       "    <tr>\n",
       "      <th>0</th>\n",
       "      <td>Butterhead</td>\n",
       "      <td>Fairly</td>\n",
       "      <td>20.886</td>\n",
       "      <td>53.305714</td>\n",
       "      <td>23.185000</td>\n",
       "      <td>1.326598</td>\n",
       "      <td>1145.666667</td>\n",
       "      <td>149.0</td>\n",
       "      <td>228.0</td>\n",
       "      <td>54.0</td>\n",
       "      <td>60.00</td>\n",
       "      <td>Grow_1</td>\n",
       "    </tr>\n",
       "    <tr>\n",
       "      <th>1</th>\n",
       "      <td>Red Mizuna</td>\n",
       "      <td>Red Baron Plus</td>\n",
       "      <td>10.901</td>\n",
       "      <td>70.210000</td>\n",
       "      <td>21.625000</td>\n",
       "      <td>0.769803</td>\n",
       "      <td>1095.250000</td>\n",
       "      <td>149.0</td>\n",
       "      <td>255.0</td>\n",
       "      <td>35.0</td>\n",
       "      <td>60.00</td>\n",
       "      <td>Grow_2</td>\n",
       "    </tr>\n",
       "    <tr>\n",
       "      <th>2</th>\n",
       "      <td>Butterhead</td>\n",
       "      <td>Fairly</td>\n",
       "      <td>24.180</td>\n",
       "      <td>69.643333</td>\n",
       "      <td>21.420000</td>\n",
       "      <td>0.774670</td>\n",
       "      <td>1197.250000</td>\n",
       "      <td>149.0</td>\n",
       "      <td>255.0</td>\n",
       "      <td>60.0</td>\n",
       "      <td>60.00</td>\n",
       "      <td>Grow_5</td>\n",
       "    </tr>\n",
       "    <tr>\n",
       "      <th>3</th>\n",
       "      <td>Curly Iceberg</td>\n",
       "      <td>Cristabel</td>\n",
       "      <td>24.388</td>\n",
       "      <td>66.731650</td>\n",
       "      <td>21.624242</td>\n",
       "      <td>0.861776</td>\n",
       "      <td>1218.201282</td>\n",
       "      <td>149.0</td>\n",
       "      <td>228.0</td>\n",
       "      <td>47.4</td>\n",
       "      <td>52.80</td>\n",
       "      <td>Grow_5</td>\n",
       "    </tr>\n",
       "    <tr>\n",
       "      <th>4</th>\n",
       "      <td>Baby Kale</td>\n",
       "      <td>Siberian</td>\n",
       "      <td>7.885</td>\n",
       "      <td>60.823846</td>\n",
       "      <td>22.630769</td>\n",
       "      <td>1.076288</td>\n",
       "      <td>1081.083333</td>\n",
       "      <td>149.0</td>\n",
       "      <td>228.0</td>\n",
       "      <td>36.0</td>\n",
       "      <td>29.75</td>\n",
       "      <td>Grow_4</td>\n",
       "    </tr>\n",
       "  </tbody>\n",
       "</table>\n",
       "</div>"
      ],
      "text/plain": [
       "  component_name   cultivar_name  harvest_yield  humidity_rh  temperature_c  \\\n",
       "0     Butterhead          Fairly         20.886    53.305714      23.185000   \n",
       "1     Red Mizuna  Red Baron Plus         10.901    70.210000      21.625000   \n",
       "2     Butterhead          Fairly         24.180    69.643333      21.420000   \n",
       "3  Curly Iceberg       Cristabel         24.388    66.731650      21.624242   \n",
       "4      Baby Kale        Siberian          7.885    60.823846      22.630769   \n",
       "\n",
       "   vapor_pressure_deficit      co2_ppm  fan_intensity  light_intensity  \\\n",
       "0                1.326598  1145.666667          149.0            228.0   \n",
       "1                0.769803  1095.250000          149.0            255.0   \n",
       "2                0.774670  1197.250000          149.0            255.0   \n",
       "3                0.861776  1218.201282          149.0            228.0   \n",
       "4                1.076288  1081.083333          149.0            228.0   \n",
       "\n",
       "   light_on_minutes  irrigation_minutes grow_room  \n",
       "0              54.0               60.00    Grow_1  \n",
       "1              35.0               60.00    Grow_2  \n",
       "2              60.0               60.00    Grow_5  \n",
       "3              47.4               52.80    Grow_5  \n",
       "4              36.0               29.75    Grow_4  "
      ]
     },
     "execution_count": 6,
     "metadata": {},
     "output_type": "execute_result"
    }
   ],
   "source": [
    "df.head()"
   ]
  },
  {
   "cell_type": "code",
   "execution_count": 7,
   "id": "6f9242d3-2743-414f-9330-46e01239c79e",
   "metadata": {},
   "outputs": [
    {
     "data": {
      "text/plain": [
       "(15136, 12)"
      ]
     },
     "execution_count": 7,
     "metadata": {},
     "output_type": "execute_result"
    }
   ],
   "source": [
    "df.shape"
   ]
  },
  {
   "cell_type": "code",
   "execution_count": 8,
   "id": "d4aa6778-3f1c-4fd9-8318-0889c67862d6",
   "metadata": {},
   "outputs": [
    {
     "name": "stdout",
     "output_type": "stream",
     "text": [
      "<class 'pandas.core.frame.DataFrame'>\n",
      "RangeIndex: 15136 entries, 0 to 15135\n",
      "Data columns (total 12 columns):\n",
      " #   Column                  Non-Null Count  Dtype  \n",
      "---  ------                  --------------  -----  \n",
      " 0   component_name          15136 non-null  object \n",
      " 1   cultivar_name           15136 non-null  object \n",
      " 2   harvest_yield           15136 non-null  float64\n",
      " 3   humidity_rh             15136 non-null  float64\n",
      " 4   temperature_c           15136 non-null  float64\n",
      " 5   vapor_pressure_deficit  15136 non-null  float64\n",
      " 6   co2_ppm                 15136 non-null  float64\n",
      " 7   fan_intensity           15136 non-null  float64\n",
      " 8   light_intensity         15136 non-null  float64\n",
      " 9   light_on_minutes        15136 non-null  float64\n",
      " 10  irrigation_minutes      15136 non-null  float64\n",
      " 11  grow_room               15136 non-null  object \n",
      "dtypes: float64(9), object(3)\n",
      "memory usage: 1.4+ MB\n"
     ]
    }
   ],
   "source": [
    "df.info()"
   ]
  },
  {
   "cell_type": "code",
   "execution_count": 9,
   "id": "8b786edd-d051-4a6f-96a4-47febcc3872a",
   "metadata": {},
   "outputs": [
    {
     "data": {
      "text/html": [
       "<div>\n",
       "<style scoped>\n",
       "    .dataframe tbody tr th:only-of-type {\n",
       "        vertical-align: middle;\n",
       "    }\n",
       "\n",
       "    .dataframe tbody tr th {\n",
       "        vertical-align: top;\n",
       "    }\n",
       "\n",
       "    .dataframe thead th {\n",
       "        text-align: right;\n",
       "    }\n",
       "</style>\n",
       "<table border=\"1\" class=\"dataframe\">\n",
       "  <thead>\n",
       "    <tr style=\"text-align: right;\">\n",
       "      <th></th>\n",
       "      <th>harvest_yield</th>\n",
       "      <th>humidity_rh</th>\n",
       "      <th>temperature_c</th>\n",
       "      <th>vapor_pressure_deficit</th>\n",
       "      <th>co2_ppm</th>\n",
       "      <th>fan_intensity</th>\n",
       "      <th>light_intensity</th>\n",
       "      <th>light_on_minutes</th>\n",
       "      <th>irrigation_minutes</th>\n",
       "    </tr>\n",
       "  </thead>\n",
       "  <tbody>\n",
       "    <tr>\n",
       "      <th>count</th>\n",
       "      <td>15136.000000</td>\n",
       "      <td>15136.000000</td>\n",
       "      <td>15136.000000</td>\n",
       "      <td>15136.000000</td>\n",
       "      <td>15136.000000</td>\n",
       "      <td>15136.000000</td>\n",
       "      <td>15136.000000</td>\n",
       "      <td>15136.000000</td>\n",
       "      <td>15136.000000</td>\n",
       "    </tr>\n",
       "    <tr>\n",
       "      <th>mean</th>\n",
       "      <td>16.654515</td>\n",
       "      <td>64.270824</td>\n",
       "      <td>22.726052</td>\n",
       "      <td>0.990160</td>\n",
       "      <td>1107.859383</td>\n",
       "      <td>220.994359</td>\n",
       "      <td>234.341168</td>\n",
       "      <td>46.926389</td>\n",
       "      <td>53.690682</td>\n",
       "    </tr>\n",
       "    <tr>\n",
       "      <th>std</th>\n",
       "      <td>6.808639</td>\n",
       "      <td>4.585201</td>\n",
       "      <td>0.739245</td>\n",
       "      <td>0.140906</td>\n",
       "      <td>56.937204</td>\n",
       "      <td>36.586747</td>\n",
       "      <td>18.707635</td>\n",
       "      <td>10.184578</td>\n",
       "      <td>7.993175</td>\n",
       "    </tr>\n",
       "    <tr>\n",
       "      <th>min</th>\n",
       "      <td>1.253000</td>\n",
       "      <td>52.769591</td>\n",
       "      <td>20.818419</td>\n",
       "      <td>0.437103</td>\n",
       "      <td>996.000000</td>\n",
       "      <td>149.000000</td>\n",
       "      <td>117.000000</td>\n",
       "      <td>20.000000</td>\n",
       "      <td>29.750000</td>\n",
       "    </tr>\n",
       "    <tr>\n",
       "      <th>25%</th>\n",
       "      <td>10.353750</td>\n",
       "      <td>61.454763</td>\n",
       "      <td>22.243816</td>\n",
       "      <td>0.900322</td>\n",
       "      <td>1061.777778</td>\n",
       "      <td>207.333333</td>\n",
       "      <td>223.375000</td>\n",
       "      <td>42.571429</td>\n",
       "      <td>52.000000</td>\n",
       "    </tr>\n",
       "    <tr>\n",
       "      <th>50%</th>\n",
       "      <td>17.202000</td>\n",
       "      <td>64.762357</td>\n",
       "      <td>22.737074</td>\n",
       "      <td>0.981390</td>\n",
       "      <td>1101.977098</td>\n",
       "      <td>236.500000</td>\n",
       "      <td>228.000000</td>\n",
       "      <td>50.200000</td>\n",
       "      <td>56.666667</td>\n",
       "    </tr>\n",
       "    <tr>\n",
       "      <th>75%</th>\n",
       "      <td>21.945000</td>\n",
       "      <td>67.253448</td>\n",
       "      <td>23.196849</td>\n",
       "      <td>1.076334</td>\n",
       "      <td>1146.428523</td>\n",
       "      <td>245.764706</td>\n",
       "      <td>255.000000</td>\n",
       "      <td>54.181818</td>\n",
       "      <td>59.272727</td>\n",
       "    </tr>\n",
       "    <tr>\n",
       "      <th>max</th>\n",
       "      <td>53.294000</td>\n",
       "      <td>75.928245</td>\n",
       "      <td>26.858077</td>\n",
       "      <td>1.839470</td>\n",
       "      <td>1262.272727</td>\n",
       "      <td>254.000000</td>\n",
       "      <td>255.000000</td>\n",
       "      <td>60.000000</td>\n",
       "      <td>60.000000</td>\n",
       "    </tr>\n",
       "  </tbody>\n",
       "</table>\n",
       "</div>"
      ],
      "text/plain": [
       "       harvest_yield   humidity_rh  temperature_c  vapor_pressure_deficit  \\\n",
       "count   15136.000000  15136.000000   15136.000000            15136.000000   \n",
       "mean       16.654515     64.270824      22.726052                0.990160   \n",
       "std         6.808639      4.585201       0.739245                0.140906   \n",
       "min         1.253000     52.769591      20.818419                0.437103   \n",
       "25%        10.353750     61.454763      22.243816                0.900322   \n",
       "50%        17.202000     64.762357      22.737074                0.981390   \n",
       "75%        21.945000     67.253448      23.196849                1.076334   \n",
       "max        53.294000     75.928245      26.858077                1.839470   \n",
       "\n",
       "            co2_ppm  fan_intensity  light_intensity  light_on_minutes  \\\n",
       "count  15136.000000   15136.000000     15136.000000      15136.000000   \n",
       "mean    1107.859383     220.994359       234.341168         46.926389   \n",
       "std       56.937204      36.586747        18.707635         10.184578   \n",
       "min      996.000000     149.000000       117.000000         20.000000   \n",
       "25%     1061.777778     207.333333       223.375000         42.571429   \n",
       "50%     1101.977098     236.500000       228.000000         50.200000   \n",
       "75%     1146.428523     245.764706       255.000000         54.181818   \n",
       "max     1262.272727     254.000000       255.000000         60.000000   \n",
       "\n",
       "       irrigation_minutes  \n",
       "count        15136.000000  \n",
       "mean            53.690682  \n",
       "std              7.993175  \n",
       "min             29.750000  \n",
       "25%             52.000000  \n",
       "50%             56.666667  \n",
       "75%             59.272727  \n",
       "max             60.000000  "
      ]
     },
     "execution_count": 9,
     "metadata": {},
     "output_type": "execute_result"
    }
   ],
   "source": [
    "df.describe()"
   ]
  },
  {
   "cell_type": "code",
   "execution_count": 10,
   "id": "37d77f65-de0f-4596-b77f-aa42bc9b6787",
   "metadata": {},
   "outputs": [
    {
     "data": {
      "image/png": "[encoded data removed]",
      "text/plain": [
       "<Figure size 1000x600 with 2 Axes>"
      ]
     },
     "metadata": {},
     "output_type": "display_data"
    }
   ],
   "source": [
    "sns.heatmap(df.corr(), annot = True, vmin=-1, vmax=1)\n",
    "plt.show();"
   ]
  },
  {
   "cell_type": "code",
   "execution_count": 11,
   "id": "e14d4e34-8630-47e4-992c-8e0d5cce3513",
   "metadata": {},
   "outputs": [
    {
     "data": {
      "text/html": [
       "<div>\n",
       "<style scoped>\n",
       "    .dataframe tbody tr th:only-of-type {\n",
       "        vertical-align: middle;\n",
       "    }\n",
       "\n",
       "    .dataframe tbody tr th {\n",
       "        vertical-align: top;\n",
       "    }\n",
       "\n",
       "    .dataframe thead th {\n",
       "        text-align: right;\n",
       "    }\n",
       "</style>\n",
       "<table border=\"1\" class=\"dataframe\">\n",
       "  <thead>\n",
       "    <tr style=\"text-align: right;\">\n",
       "      <th></th>\n",
       "      <th>harvest_yield</th>\n",
       "      <th>humidity_rh</th>\n",
       "      <th>temperature_c</th>\n",
       "      <th>vapor_pressure_deficit</th>\n",
       "      <th>co2_ppm</th>\n",
       "      <th>fan_intensity</th>\n",
       "      <th>light_intensity</th>\n",
       "      <th>light_on_minutes</th>\n",
       "      <th>irrigation_minutes</th>\n",
       "      <th>grow_room</th>\n",
       "    </tr>\n",
       "  </thead>\n",
       "  <tbody>\n",
       "    <tr>\n",
       "      <th>0</th>\n",
       "      <td>20.886</td>\n",
       "      <td>53.305714</td>\n",
       "      <td>23.185000</td>\n",
       "      <td>1.326598</td>\n",
       "      <td>1145.666667</td>\n",
       "      <td>149.0</td>\n",
       "      <td>228.0</td>\n",
       "      <td>54.0</td>\n",
       "      <td>60.00</td>\n",
       "      <td>Grow_1</td>\n",
       "    </tr>\n",
       "    <tr>\n",
       "      <th>1</th>\n",
       "      <td>10.901</td>\n",
       "      <td>70.210000</td>\n",
       "      <td>21.625000</td>\n",
       "      <td>0.769803</td>\n",
       "      <td>1095.250000</td>\n",
       "      <td>149.0</td>\n",
       "      <td>255.0</td>\n",
       "      <td>35.0</td>\n",
       "      <td>60.00</td>\n",
       "      <td>Grow_2</td>\n",
       "    </tr>\n",
       "    <tr>\n",
       "      <th>2</th>\n",
       "      <td>24.180</td>\n",
       "      <td>69.643333</td>\n",
       "      <td>21.420000</td>\n",
       "      <td>0.774670</td>\n",
       "      <td>1197.250000</td>\n",
       "      <td>149.0</td>\n",
       "      <td>255.0</td>\n",
       "      <td>60.0</td>\n",
       "      <td>60.00</td>\n",
       "      <td>Grow_5</td>\n",
       "    </tr>\n",
       "    <tr>\n",
       "      <th>3</th>\n",
       "      <td>24.388</td>\n",
       "      <td>66.731650</td>\n",
       "      <td>21.624242</td>\n",
       "      <td>0.861776</td>\n",
       "      <td>1218.201282</td>\n",
       "      <td>149.0</td>\n",
       "      <td>228.0</td>\n",
       "      <td>47.4</td>\n",
       "      <td>52.80</td>\n",
       "      <td>Grow_5</td>\n",
       "    </tr>\n",
       "    <tr>\n",
       "      <th>4</th>\n",
       "      <td>7.885</td>\n",
       "      <td>60.823846</td>\n",
       "      <td>22.630769</td>\n",
       "      <td>1.076288</td>\n",
       "      <td>1081.083333</td>\n",
       "      <td>149.0</td>\n",
       "      <td>228.0</td>\n",
       "      <td>36.0</td>\n",
       "      <td>29.75</td>\n",
       "      <td>Grow_4</td>\n",
       "    </tr>\n",
       "  </tbody>\n",
       "</table>\n",
       "</div>"
      ],
      "text/plain": [
       "   harvest_yield  humidity_rh  temperature_c  vapor_pressure_deficit  \\\n",
       "0         20.886    53.305714      23.185000                1.326598   \n",
       "1         10.901    70.210000      21.625000                0.769803   \n",
       "2         24.180    69.643333      21.420000                0.774670   \n",
       "3         24.388    66.731650      21.624242                0.861776   \n",
       "4          7.885    60.823846      22.630769                1.076288   \n",
       "\n",
       "       co2_ppm  fan_intensity  light_intensity  light_on_minutes  \\\n",
       "0  1145.666667          149.0            228.0              54.0   \n",
       "1  1095.250000          149.0            255.0              35.0   \n",
       "2  1197.250000          149.0            255.0              60.0   \n",
       "3  1218.201282          149.0            228.0              47.4   \n",
       "4  1081.083333          149.0            228.0              36.0   \n",
       "\n",
       "   irrigation_minutes grow_room  \n",
       "0               60.00    Grow_1  \n",
       "1               60.00    Grow_2  \n",
       "2               60.00    Grow_5  \n",
       "3               52.80    Grow_5  \n",
       "4               29.75    Grow_4  "
      ]
     },
     "execution_count": 11,
     "metadata": {},
     "output_type": "execute_result"
    }
   ],
   "source": [
    "df.head().iloc[:,2:]"
   ]
  },
  {
   "cell_type": "code",
   "execution_count": 12,
   "id": "08ce9487-fa94-4a4f-9b49-80f06665e71b",
   "metadata": {},
   "outputs": [],
   "source": [
    "df = df[['component_name', 'cultivar_name', 'temperature_c', 'humidity_rh', 'vapor_pressure_deficit', 'co2_ppm', 'fan_intensity', 'light_intensity', 'light_on_minutes', 'irrigation_minutes', 'grow_room', 'harvest_yield']]"
   ]
  },
  {
   "cell_type": "code",
   "execution_count": 13,
   "id": "a579d394-ef18-4c72-9301-a82b77e23535",
   "metadata": {},
   "outputs": [
    {
     "data": {
      "text/html": [
       "<div>\n",
       "<style scoped>\n",
       "    .dataframe tbody tr th:only-of-type {\n",
       "        vertical-align: middle;\n",
       "    }\n",
       "\n",
       "    .dataframe tbody tr th {\n",
       "        vertical-align: top;\n",
       "    }\n",
       "\n",
       "    .dataframe thead th {\n",
       "        text-align: right;\n",
       "    }\n",
       "</style>\n",
       "<table border=\"1\" class=\"dataframe\">\n",
       "  <thead>\n",
       "    <tr style=\"text-align: right;\">\n",
       "      <th></th>\n",
       "      <th>component_name</th>\n",
       "      <th>cultivar_name</th>\n",
       "      <th>temperature_c</th>\n",
       "      <th>humidity_rh</th>\n",
       "      <th>vapor_pressure_deficit</th>\n",
       "      <th>co2_ppm</th>\n",
       "      <th>fan_intensity</th>\n",
       "      <th>light_intensity</th>\n",
       "      <th>light_on_minutes</th>\n",
       "      <th>irrigation_minutes</th>\n",
       "      <th>grow_room</th>\n",
       "      <th>harvest_yield</th>\n",
       "    </tr>\n",
       "  </thead>\n",
       "  <tbody>\n",
       "    <tr>\n",
       "      <th>0</th>\n",
       "      <td>Butterhead</td>\n",
       "      <td>Fairly</td>\n",
       "      <td>23.185000</td>\n",
       "      <td>53.305714</td>\n",
       "      <td>1.326598</td>\n",
       "      <td>1145.666667</td>\n",
       "      <td>149.0</td>\n",
       "      <td>228.0</td>\n",
       "      <td>54.0</td>\n",
       "      <td>60.00</td>\n",
       "      <td>Grow_1</td>\n",
       "      <td>20.886</td>\n",
       "    </tr>\n",
       "    <tr>\n",
       "      <th>1</th>\n",
       "      <td>Red Mizuna</td>\n",
       "      <td>Red Baron Plus</td>\n",
       "      <td>21.625000</td>\n",
       "      <td>70.210000</td>\n",
       "      <td>0.769803</td>\n",
       "      <td>1095.250000</td>\n",
       "      <td>149.0</td>\n",
       "      <td>255.0</td>\n",
       "      <td>35.0</td>\n",
       "      <td>60.00</td>\n",
       "      <td>Grow_2</td>\n",
       "      <td>10.901</td>\n",
       "    </tr>\n",
       "    <tr>\n",
       "      <th>2</th>\n",
       "      <td>Butterhead</td>\n",
       "      <td>Fairly</td>\n",
       "      <td>21.420000</td>\n",
       "      <td>69.643333</td>\n",
       "      <td>0.774670</td>\n",
       "      <td>1197.250000</td>\n",
       "      <td>149.0</td>\n",
       "      <td>255.0</td>\n",
       "      <td>60.0</td>\n",
       "      <td>60.00</td>\n",
       "      <td>Grow_5</td>\n",
       "      <td>24.180</td>\n",
       "    </tr>\n",
       "    <tr>\n",
       "      <th>3</th>\n",
       "      <td>Curly Iceberg</td>\n",
       "      <td>Cristabel</td>\n",
       "      <td>21.624242</td>\n",
       "      <td>66.731650</td>\n",
       "      <td>0.861776</td>\n",
       "      <td>1218.201282</td>\n",
       "      <td>149.0</td>\n",
       "      <td>228.0</td>\n",
       "      <td>47.4</td>\n",
       "      <td>52.80</td>\n",
       "      <td>Grow_5</td>\n",
       "      <td>24.388</td>\n",
       "    </tr>\n",
       "    <tr>\n",
       "      <th>4</th>\n",
       "      <td>Baby Kale</td>\n",
       "      <td>Siberian</td>\n",
       "      <td>22.630769</td>\n",
       "      <td>60.823846</td>\n",
       "      <td>1.076288</td>\n",
       "      <td>1081.083333</td>\n",
       "      <td>149.0</td>\n",
       "      <td>228.0</td>\n",
       "      <td>36.0</td>\n",
       "      <td>29.75</td>\n",
       "      <td>Grow_4</td>\n",
       "      <td>7.885</td>\n",
       "    </tr>\n",
       "  </tbody>\n",
       "</table>\n",
       "</div>"
      ],
      "text/plain": [
       "  component_name   cultivar_name  temperature_c  humidity_rh  \\\n",
       "0     Butterhead          Fairly      23.185000    53.305714   \n",
       "1     Red Mizuna  Red Baron Plus      21.625000    70.210000   \n",
       "2     Butterhead          Fairly      21.420000    69.643333   \n",
       "3  Curly Iceberg       Cristabel      21.624242    66.731650   \n",
       "4      Baby Kale        Siberian      22.630769    60.823846   \n",
       "\n",
       "   vapor_pressure_deficit      co2_ppm  fan_intensity  light_intensity  \\\n",
       "0                1.326598  1145.666667          149.0            228.0   \n",
       "1                0.769803  1095.250000          149.0            255.0   \n",
       "2                0.774670  1197.250000          149.0            255.0   \n",
       "3                0.861776  1218.201282          149.0            228.0   \n",
       "4                1.076288  1081.083333          149.0            228.0   \n",
       "\n",
       "   light_on_minutes  irrigation_minutes grow_room  harvest_yield  \n",
       "0              54.0               60.00    Grow_1         20.886  \n",
       "1              35.0               60.00    Grow_2         10.901  \n",
       "2              60.0               60.00    Grow_5         24.180  \n",
       "3              47.4               52.80    Grow_5         24.388  \n",
       "4              36.0               29.75    Grow_4          7.885  "
      ]
     },
     "execution_count": 13,
     "metadata": {},
     "output_type": "execute_result"
    }
   ],
   "source": [
    "df.head()"
   ]
  },
  {
   "cell_type": "markdown",
   "id": "b34542ad-48c5-4c99-863b-0014edeab802",
   "metadata": {},
   "source": [
    "### Train | Test Split"
   ]
  },
  {
   "cell_type": "code",
   "execution_count": 14,
   "id": "d0cb15d9-bc98-4235-bf37-07f28951eda4",
   "metadata": {},
   "outputs": [],
   "source": [
    "X = df.drop('harvest_yield', axis=1)\n",
    "y = df['harvest_yield']"
   ]
  },
  {
   "cell_type": "code",
   "execution_count": 15,
   "id": "feade7ca-c278-48b3-9fb0-388386a857d1",
   "metadata": {},
   "outputs": [],
   "source": [
    "from sklearn.model_selection import train_test_split"
   ]
  },
  {
   "cell_type": "code",
   "execution_count": 16,
   "id": "071ffbd8-ce78-47bb-b25b-31b02e4a1b13",
   "metadata": {},
   "outputs": [],
   "source": [
    "X_train, X_test, y_train, y_test = train_test_split(X, y, test_size=0.2, random_state=42)"
   ]
  },
  {
   "cell_type": "code",
   "execution_count": 17,
   "id": "edc5bf00-9163-4d24-ba5b-749b79d0b2f0",
   "metadata": {},
   "outputs": [
    {
     "data": {
      "text/plain": [
       "(12108, 11)"
      ]
     },
     "execution_count": 17,
     "metadata": {},
     "output_type": "execute_result"
    }
   ],
   "source": [
    "X_train.shape"
   ]
  },
  {
   "cell_type": "code",
   "execution_count": 18,
   "id": "bbc1e1a1-c7f4-4d7c-b441-081852084098",
   "metadata": {},
   "outputs": [
    {
     "data": {
      "text/plain": [
       "(3028, 11)"
      ]
     },
     "execution_count": 18,
     "metadata": {},
     "output_type": "execute_result"
    }
   ],
   "source": [
    "X_test.shape"
   ]
  },
  {
   "cell_type": "markdown",
   "id": "a07b8dbe-bfa8-4937-a235-da0f43c478b2",
   "metadata": {},
   "source": [
    "## <span style='color:red'> XGBoosting Regressor </span> "
   ]
  },
  {
   "cell_type": "code",
   "execution_count": 19,
   "id": "3f22e2ad-d255-43cf-9e5f-f74ef756c984",
   "metadata": {},
   "outputs": [
    {
     "name": "stdout",
     "output_type": "stream",
     "text": [
      "Train features shape :  (12108, 11)\n",
      "Train target shape   :  (12108,)\n",
      "Test features shape  :  (3028, 11)\n",
      "Test target shape    :  (3028,)\n"
     ]
    }
   ],
   "source": [
    "print(\"Train features shape : \", X_train.shape)\n",
    "print(\"Train target shape   : \", y_train.shape)\n",
    "print(\"Test features shape  : \", X_test.shape)\n",
    "print(\"Test target shape    : \", y_test.shape)"
   ]
  },
  {
   "cell_type": "markdown",
   "id": "e5cbe6b7-c09f-4586-93bd-aa91a68799c9",
   "metadata": {},
   "source": [
    "### Modeling with Pipeline for XG Boost Regressor"
   ]
  },
  {
   "cell_type": "code",
   "execution_count": 20,
   "id": "5690d193-275c-4047-9a22-622acda597d4",
   "metadata": {},
   "outputs": [],
   "source": [
    "#!pip install xgboost"
   ]
  },
  {
   "cell_type": "code",
   "execution_count": 21,
   "id": "c6be3ded-8838-446b-afa8-d97d052d87c6",
   "metadata": {},
   "outputs": [],
   "source": [
    "from sklearn.metrics import r2_score, mean_absolute_error, mean_squared_error\n",
    "\n",
    "def train_val(model, X_train, y_train, X_test, y_test, name):\n",
    "    \n",
    "    y_pred = model.predict(X_test)\n",
    "    y_train_pred = model.predict(X_train)\n",
    "    \n",
    "    scores = {name+\"_train\": {\"R2\" : r2_score(y_train, y_train_pred),\n",
    "    \"mae\" : mean_absolute_error(y_train, y_train_pred),\n",
    "    \"mse\" : mean_squared_error(y_train, y_train_pred),                          \n",
    "    \"rmse\" : np.sqrt(mean_squared_error(y_train, y_train_pred))},\n",
    "    \n",
    "    name+\"_test\": {\"R2\" : r2_score(y_test, y_pred),\n",
    "    \"mae\" : mean_absolute_error(y_test, y_pred),\n",
    "    \"mse\" : mean_squared_error(y_test, y_pred),\n",
    "    \"rmse\" : np.sqrt(mean_squared_error(y_test, y_pred))}}\n",
    "    \n",
    "    return pd.DataFrame(scores)"
   ]
  },
  {
   "cell_type": "code",
   "execution_count": 22,
   "id": "b7346516-9b3c-4a8f-89c4-b72eb943d184",
   "metadata": {},
   "outputs": [
    {
     "data": {
      "text/plain": [
       "'1.6.2'"
      ]
     },
     "execution_count": 22,
     "metadata": {},
     "output_type": "execute_result"
    }
   ],
   "source": [
    "import xgboost as xgb\n",
    "xgb.__version__"
   ]
  },
  {
   "cell_type": "code",
   "execution_count": 23,
   "id": "40b653b1-afb3-492a-927c-49dd1d56806c",
   "metadata": {},
   "outputs": [],
   "source": [
    "from sklearn.compose import make_column_transformer\n",
    "from sklearn.preprocessing import OneHotEncoder\n",
    "from sklearn.preprocessing import StandardScaler, MinMaxScaler, RobustScaler\n",
    "from sklearn.pipeline import Pipeline\n",
    "from sklearn.ensemble import AdaBoostRegressor, GradientBoostingRegressor\n",
    "from xgboost import XGBRegressor\n",
    "from sklearn.model_selection import cross_validate, cross_val_score\n",
    "from sklearn.model_selection import GridSearchCV"
   ]
  },
  {
   "cell_type": "code",
   "execution_count": 24,
   "id": "e20768f7-6b60-4a64-866e-9068bac3e521",
   "metadata": {},
   "outputs": [
    {
     "data": {
      "text/plain": [
       "Index(['component_name', 'cultivar_name', 'grow_room'], dtype='object')"
      ]
     },
     "execution_count": 24,
     "metadata": {},
     "output_type": "execute_result"
    }
   ],
   "source": [
    "cat = X.select_dtypes(\"object\").columns\n",
    "cat"
   ]
  },
  {
   "cell_type": "code",
   "execution_count": 25,
   "id": "2a8362e7-7942-4d83-81b3-ae2ead6f5946",
   "metadata": {},
   "outputs": [
    {
     "data": {
      "text/html": [
       "<style>#sk-container-id-1 {color: black;background-color: white;}#sk-container-id-1 pre{padding: 0;}#sk-container-id-1 div.sk-toggleable {background-color: white;}#sk-container-id-1 label.sk-toggleable__label {cursor: pointer;display: block;width: 100%;margin-bottom: 0;padding: 0.3em;box-sizing: border-box;text-align: center;}#sk-container-id-1 label.sk-toggleable__label-arrow:before {content: \"▸\";float: left;margin-right: 0.25em;color: #696969;}#sk-container-id-1 label.sk-toggleable__label-arrow:hover:before {color: black;}#sk-container-id-1 div.sk-estimator:hover label.sk-toggleable__label-arrow:before {color: black;}#sk-container-id-1 div.sk-toggleable__content {max-height: 0;max-width: 0;overflow: hidden;text-align: left;background-color: #f0f8ff;}#sk-container-id-1 div.sk-toggleable__content pre {margin: 0.2em;color: black;border-radius: 0.25em;background-color: #f0f8ff;}#sk-container-id-1 input.sk-toggleable__control:checked~div.sk-toggleable__content {max-height: 200px;max-width: 100%;overflow: auto;}#sk-container-id-1 input.sk-toggleable__control:checked~label.sk-toggleable__label-arrow:before {content: \"▾\";}#sk-container-id-1 div.sk-estimator input.sk-toggleable__control:checked~label.sk-toggleable__label {background-color: #d4ebff;}#sk-container-id-1 div.sk-label input.sk-toggleable__control:checked~label.sk-toggleable__label {background-color: #d4ebff;}#sk-container-id-1 input.sk-hidden--visually {border: 0;clip: rect(1px 1px 1px 1px);clip: rect(1px, 1px, 1px, 1px);height: 1px;margin: -1px;overflow: hidden;padding: 0;position: absolute;width: 1px;}#sk-container-id-1 div.sk-estimator {font-family: monospace;background-color: #f0f8ff;border: 1px dotted black;border-radius: 0.25em;box-sizing: border-box;margin-bottom: 0.5em;}#sk-container-id-1 div.sk-estimator:hover {background-color: #d4ebff;}#sk-container-id-1 div.sk-parallel-item::after {content: \"\";width: 100%;border-bottom: 1px solid gray;flex-grow: 1;}#sk-container-id-1 div.sk-label:hover label.sk-toggleable__label {background-color: #d4ebff;}#sk-container-id-1 div.sk-serial::before {content: \"\";position: absolute;border-left: 1px solid gray;box-sizing: border-box;top: 0;bottom: 0;left: 50%;z-index: 0;}#sk-container-id-1 div.sk-serial {display: flex;flex-direction: column;align-items: center;background-color: white;padding-right: 0.2em;padding-left: 0.2em;position: relative;}#sk-container-id-1 div.sk-item {position: relative;z-index: 1;}#sk-container-id-1 div.sk-parallel {display: flex;align-items: stretch;justify-content: center;background-color: white;position: relative;}#sk-container-id-1 div.sk-item::before, #sk-container-id-1 div.sk-parallel-item::before {content: \"\";position: absolute;border-left: 1px solid gray;box-sizing: border-box;top: 0;bottom: 0;left: 50%;z-index: -1;}#sk-container-id-1 div.sk-parallel-item {display: flex;flex-direction: column;z-index: 1;position: relative;background-color: white;}#sk-container-id-1 div.sk-parallel-item:first-child::after {align-self: flex-end;width: 50%;}#sk-container-id-1 div.sk-parallel-item:last-child::after {align-self: flex-start;width: 50%;}#sk-container-id-1 div.sk-parallel-item:only-child::after {width: 0;}#sk-container-id-1 div.sk-dashed-wrapped {border: 1px dashed gray;margin: 0 0.4em 0.5em 0.4em;box-sizing: border-box;padding-bottom: 0.4em;background-color: white;}#sk-container-id-1 div.sk-label label {font-family: monospace;font-weight: bold;display: inline-block;line-height: 1.2em;}#sk-container-id-1 div.sk-label-container {text-align: center;}#sk-container-id-1 div.sk-container {/* jupyter's `normalize.less` sets `[hidden] { display: none; }` but bootstrap.min.css set `[hidden] { display: none !important; }` so we also need the `!important` here to be able to override the default hidden behavior on the sphinx rendered scikit-learn.org. See: https://github.com/scikit-learn/scikit-learn/issues/21755 */display: inline-block !important;position: relative;}#sk-container-id-1 div.sk-text-repr-fallback {display: none;}</style><div id=\"sk-container-id-1\" class=\"sk-top-container\"><div class=\"sk-text-repr-fallback\"><pre>Pipeline(steps=[(&#x27;OneHotEncoder&#x27;,\n",
       "                 ColumnTransformer(remainder=MinMaxScaler(),\n",
       "                                   transformers=[(&#x27;onehotencoder&#x27;,\n",
       "                                                  OneHotEncoder(handle_unknown=&#x27;ignore&#x27;,\n",
       "                                                                sparse=False),\n",
       "                                                  Index([&#x27;component_name&#x27;, &#x27;cultivar_name&#x27;, &#x27;grow_room&#x27;], dtype=&#x27;object&#x27;))])),\n",
       "                (&#x27;XGB_model&#x27;,\n",
       "                 XGBRegressor(base_score=0.5, booster=&#x27;gbtree&#x27;, callbacks=None,\n",
       "                              colsample_bylevel=1, colsample_bynode=1,\n",
       "                              colsam...\n",
       "                              gamma=0, gpu_id=-1, grow_policy=&#x27;depthwise&#x27;,\n",
       "                              importance_type=None, interaction_constraints=&#x27;&#x27;,\n",
       "                              learning_rate=0.300000012, max_bin=256,\n",
       "                              max_cat_to_onehot=4, max_delta_step=0,\n",
       "                              max_depth=2, max_leaves=0, min_child_weight=1,\n",
       "                              missing=nan, monotone_constraints=&#x27;()&#x27;,\n",
       "                              n_estimators=100, n_jobs=0, num_parallel_tree=1,\n",
       "                              predictor=&#x27;auto&#x27;, random_state=42, reg_alpha=0,\n",
       "                              reg_lambda=1, ...))])</pre><b>In a Jupyter environment, please rerun this cell to show the HTML representation or trust the notebook. <br />On GitHub, the HTML representation is unable to render, please try loading this page with nbviewer.org.</b></div><div class=\"sk-container\" hidden><div class=\"sk-item sk-dashed-wrapped\"><div class=\"sk-label-container\"><div class=\"sk-label sk-toggleable\"><input class=\"sk-toggleable__control sk-hidden--visually\" id=\"sk-estimator-id-1\" type=\"checkbox\" ><label for=\"sk-estimator-id-1\" class=\"sk-toggleable__label sk-toggleable__label-arrow\">Pipeline</label><div class=\"sk-toggleable__content\"><pre>Pipeline(steps=[(&#x27;OneHotEncoder&#x27;,\n",
       "                 ColumnTransformer(remainder=MinMaxScaler(),\n",
       "                                   transformers=[(&#x27;onehotencoder&#x27;,\n",
       "                                                  OneHotEncoder(handle_unknown=&#x27;ignore&#x27;,\n",
       "                                                                sparse=False),\n",
       "                                                  Index([&#x27;component_name&#x27;, &#x27;cultivar_name&#x27;, &#x27;grow_room&#x27;], dtype=&#x27;object&#x27;))])),\n",
       "                (&#x27;XGB_model&#x27;,\n",
       "                 XGBRegressor(base_score=0.5, booster=&#x27;gbtree&#x27;, callbacks=None,\n",
       "                              colsample_bylevel=1, colsample_bynode=1,\n",
       "                              colsam...\n",
       "                              gamma=0, gpu_id=-1, grow_policy=&#x27;depthwise&#x27;,\n",
       "                              importance_type=None, interaction_constraints=&#x27;&#x27;,\n",
       "                              learning_rate=0.300000012, max_bin=256,\n",
       "                              max_cat_to_onehot=4, max_delta_step=0,\n",
       "                              max_depth=2, max_leaves=0, min_child_weight=1,\n",
       "                              missing=nan, monotone_constraints=&#x27;()&#x27;,\n",
       "                              n_estimators=100, n_jobs=0, num_parallel_tree=1,\n",
       "                              predictor=&#x27;auto&#x27;, random_state=42, reg_alpha=0,\n",
       "                              reg_lambda=1, ...))])</pre></div></div></div><div class=\"sk-serial\"><div class=\"sk-item sk-dashed-wrapped\"><div class=\"sk-label-container\"><div class=\"sk-label sk-toggleable\"><input class=\"sk-toggleable__control sk-hidden--visually\" id=\"sk-estimator-id-2\" type=\"checkbox\" ><label for=\"sk-estimator-id-2\" class=\"sk-toggleable__label sk-toggleable__label-arrow\">OneHotEncoder: ColumnTransformer</label><div class=\"sk-toggleable__content\"><pre>ColumnTransformer(remainder=MinMaxScaler(),\n",
       "                  transformers=[(&#x27;onehotencoder&#x27;,\n",
       "                                 OneHotEncoder(handle_unknown=&#x27;ignore&#x27;,\n",
       "                                               sparse=False),\n",
       "                                 Index([&#x27;component_name&#x27;, &#x27;cultivar_name&#x27;, &#x27;grow_room&#x27;], dtype=&#x27;object&#x27;))])</pre></div></div></div><div class=\"sk-parallel\"><div class=\"sk-parallel-item\"><div class=\"sk-item\"><div class=\"sk-label-container\"><div class=\"sk-label sk-toggleable\"><input class=\"sk-toggleable__control sk-hidden--visually\" id=\"sk-estimator-id-3\" type=\"checkbox\" ><label for=\"sk-estimator-id-3\" class=\"sk-toggleable__label sk-toggleable__label-arrow\">onehotencoder</label><div class=\"sk-toggleable__content\"><pre>Index([&#x27;component_name&#x27;, &#x27;cultivar_name&#x27;, &#x27;grow_room&#x27;], dtype=&#x27;object&#x27;)</pre></div></div></div><div class=\"sk-serial\"><div class=\"sk-item\"><div class=\"sk-estimator sk-toggleable\"><input class=\"sk-toggleable__control sk-hidden--visually\" id=\"sk-estimator-id-4\" type=\"checkbox\" ><label for=\"sk-estimator-id-4\" class=\"sk-toggleable__label sk-toggleable__label-arrow\">OneHotEncoder</label><div class=\"sk-toggleable__content\"><pre>OneHotEncoder(handle_unknown=&#x27;ignore&#x27;, sparse=False)</pre></div></div></div></div></div></div><div class=\"sk-parallel-item\"><div class=\"sk-item\"><div class=\"sk-label-container\"><div class=\"sk-label sk-toggleable\"><input class=\"sk-toggleable__control sk-hidden--visually\" id=\"sk-estimator-id-5\" type=\"checkbox\" ><label for=\"sk-estimator-id-5\" class=\"sk-toggleable__label sk-toggleable__label-arrow\">remainder</label><div class=\"sk-toggleable__content\"><pre>[&#x27;temperature_c&#x27;, &#x27;humidity_rh&#x27;, &#x27;vapor_pressure_deficit&#x27;, &#x27;co2_ppm&#x27;, &#x27;fan_intensity&#x27;, &#x27;light_intensity&#x27;, &#x27;light_on_minutes&#x27;, &#x27;irrigation_minutes&#x27;]</pre></div></div></div><div class=\"sk-serial\"><div class=\"sk-item\"><div class=\"sk-estimator sk-toggleable\"><input class=\"sk-toggleable__control sk-hidden--visually\" id=\"sk-estimator-id-6\" type=\"checkbox\" ><label for=\"sk-estimator-id-6\" class=\"sk-toggleable__label sk-toggleable__label-arrow\">MinMaxScaler</label><div class=\"sk-toggleable__content\"><pre>MinMaxScaler()</pre></div></div></div></div></div></div></div></div><div class=\"sk-item\"><div class=\"sk-estimator sk-toggleable\"><input class=\"sk-toggleable__control sk-hidden--visually\" id=\"sk-estimator-id-7\" type=\"checkbox\" ><label for=\"sk-estimator-id-7\" class=\"sk-toggleable__label sk-toggleable__label-arrow\">XGBRegressor</label><div class=\"sk-toggleable__content\"><pre>XGBRegressor(base_score=0.5, booster=&#x27;gbtree&#x27;, callbacks=None,\n",
       "             colsample_bylevel=1, colsample_bynode=1, colsample_bytree=1,\n",
       "             early_stopping_rounds=None, enable_categorical=False,\n",
       "             eval_metric=None, gamma=0, gpu_id=-1, grow_policy=&#x27;depthwise&#x27;,\n",
       "             importance_type=None, interaction_constraints=&#x27;&#x27;,\n",
       "             learning_rate=0.300000012, max_bin=256, max_cat_to_onehot=4,\n",
       "             max_delta_step=0, max_depth=2, max_leaves=0, min_child_weight=1,\n",
       "             missing=nan, monotone_constraints=&#x27;()&#x27;, n_estimators=100, n_jobs=0,\n",
       "             num_parallel_tree=1, predictor=&#x27;auto&#x27;, random_state=42,\n",
       "             reg_alpha=0, reg_lambda=1, ...)</pre></div></div></div></div></div></div></div>"
      ],
      "text/plain": [
       "Pipeline(steps=[('OneHotEncoder',\n",
       "                 ColumnTransformer(remainder=MinMaxScaler(),\n",
       "                                   transformers=[('onehotencoder',\n",
       "                                                  OneHotEncoder(handle_unknown='ignore',\n",
       "                                                                sparse=False),\n",
       "                                                  Index(['component_name', 'cultivar_name', 'grow_room'], dtype='object'))])),\n",
       "                ('XGB_model',\n",
       "                 XGBRegressor(base_score=0.5, booster='gbtree', callbacks=None,\n",
       "                              colsample_bylevel=1, colsample_bynode=1,\n",
       "                              colsam...\n",
       "                              gamma=0, gpu_id=-1, grow_policy='depthwise',\n",
       "                              importance_type=None, interaction_constraints='',\n",
       "                              learning_rate=0.300000012, max_bin=256,\n",
       "                              max_cat_to_onehot=4, max_delta_step=0,\n",
       "                              max_depth=2, max_leaves=0, min_child_weight=1,\n",
       "                              missing=nan, monotone_constraints='()',\n",
       "                              n_estimators=100, n_jobs=0, num_parallel_tree=1,\n",
       "                              predictor='auto', random_state=42, reg_alpha=0,\n",
       "                              reg_lambda=1, ...))])"
      ]
     },
     "execution_count": 25,
     "metadata": {},
     "output_type": "execute_result"
    }
   ],
   "source": [
    "column_trans = make_column_transformer ((OneHotEncoder (handle_unknown='ignore', sparse=False), cat), \n",
    "                                        remainder=MinMaxScaler())\n",
    "\n",
    "operations = [('OneHotEncoder', column_trans), (\"XGB_model\", XGBRegressor(random_state=42,\n",
    "                                                                           max_depth=2,\n",
    "                                                                           subsample=0.5,\n",
    "                                                                           objective=\"reg:squarederror\"))]\n",
    "\n",
    "pipe_XGB_model = Pipeline(steps=operations)\n",
    "\n",
    "pipe_XGB_model.fit(X_train, y_train)"
   ]
  },
  {
   "cell_type": "code",
   "execution_count": 26,
   "id": "b25edb4f-792f-4b30-a81f-4304e87a7840",
   "metadata": {},
   "outputs": [
    {
     "data": {
      "text/html": [
       "<div>\n",
       "<style scoped>\n",
       "    .dataframe tbody tr th:only-of-type {\n",
       "        vertical-align: middle;\n",
       "    }\n",
       "\n",
       "    .dataframe tbody tr th {\n",
       "        vertical-align: top;\n",
       "    }\n",
       "\n",
       "    .dataframe thead th {\n",
       "        text-align: right;\n",
       "    }\n",
       "</style>\n",
       "<table border=\"1\" class=\"dataframe\">\n",
       "  <thead>\n",
       "    <tr style=\"text-align: right;\">\n",
       "      <th></th>\n",
       "      <th>XGB_train</th>\n",
       "      <th>XGB_test</th>\n",
       "    </tr>\n",
       "  </thead>\n",
       "  <tbody>\n",
       "    <tr>\n",
       "      <th>R2</th>\n",
       "      <td>0.669968</td>\n",
       "      <td>0.651871</td>\n",
       "    </tr>\n",
       "    <tr>\n",
       "      <th>mae</th>\n",
       "      <td>2.905821</td>\n",
       "      <td>3.014736</td>\n",
       "    </tr>\n",
       "    <tr>\n",
       "      <th>mse</th>\n",
       "      <td>15.251032</td>\n",
       "      <td>16.336067</td>\n",
       "    </tr>\n",
       "    <tr>\n",
       "      <th>rmse</th>\n",
       "      <td>3.905257</td>\n",
       "      <td>4.041790</td>\n",
       "    </tr>\n",
       "  </tbody>\n",
       "</table>\n",
       "</div>"
      ],
      "text/plain": [
       "      XGB_train   XGB_test\n",
       "R2     0.669968   0.651871\n",
       "mae    2.905821   3.014736\n",
       "mse   15.251032  16.336067\n",
       "rmse   3.905257   4.041790"
      ]
     },
     "execution_count": 26,
     "metadata": {},
     "output_type": "execute_result"
    }
   ],
   "source": [
    "train_val(pipe_XGB_model, X_train, y_train, X_test, y_test, 'XGB')"
   ]
  },
  {
   "cell_type": "code",
   "execution_count": 27,
   "id": "009d3fbd-9ad4-401b-9ac0-b03984c26c19",
   "metadata": {},
   "outputs": [
    {
     "data": {
      "text/plain": [
       "test_r2                              0.650210\n",
       "test_neg_mean_absolute_error        -2.988690\n",
       "test_neg_mean_squared_error        -16.161884\n",
       "test_neg_root_mean_squared_error    -4.019875\n",
       "dtype: float64"
      ]
     },
     "execution_count": 27,
     "metadata": {},
     "output_type": "execute_result"
    }
   ],
   "source": [
    "operations = [('OneHotEncoder', column_trans), (\"XGB_model\", XGBRegressor(random_state=42, \n",
    "                                                                           objective=\"reg:squarederror\"))]\n",
    "\n",
    "model = Pipeline(steps=operations)\n",
    "\n",
    "scores = cross_validate(model, X_train, y_train, scoring=['r2', \n",
    "            'neg_mean_absolute_error','neg_mean_squared_error','neg_root_mean_squared_error'], cv =5)\n",
    "pd.DataFrame(scores).iloc[:, 2:].mean()"
   ]
  },
  {
   "cell_type": "markdown",
   "id": "c98ed0ab-57e5-4320-818d-71007153c157",
   "metadata": {},
   "source": [
    "#### Gridsearch for XGBoost"
   ]
  },
  {
   "cell_type": "code",
   "execution_count": 28,
   "id": "9f106ee5-a4d4-4cdf-a000-3ea93bcaa9b4",
   "metadata": {},
   "outputs": [],
   "source": [
    "param_grid = {\"XGB_model__n_estimators\":[300, 350],\n",
    "              \"XGB_model__max_depth\":[3, 4], \n",
    "              \"XGB_model__learning_rate\": [0.1, 0.2],\n",
    "              \"XGB_model__subsample\":[0.8, 1], \n",
    "              \"XGB_model__colsample_bytree\":[0.3, 0.5, 1]}"
   ]
  },
  {
   "cell_type": "code",
   "execution_count": 29,
   "id": "dce74454-a728-40fe-9b14-7ce08c6a61b9",
   "metadata": {},
   "outputs": [],
   "source": [
    "operations = [('OneHotEncoder', column_trans), (\"XGB_model\", XGBRegressor(random_state=42, \n",
    "                                                                           objective=\"reg:squarederror\"))]\n",
    "\n",
    "model = Pipeline(steps=operations)\n",
    "\n",
    "XGB_model = GridSearchCV(estimator=model,\n",
    "                          param_grid=param_grid,\n",
    "                          scoring='neg_root_mean_squared_error',\n",
    "                          cv=3,\n",
    "                          n_jobs = -1)"
   ]
  },
  {
   "cell_type": "code",
   "execution_count": 30,
   "id": "294a5a78-362f-4314-8822-d36afdba4286",
   "metadata": {},
   "outputs": [
    {
     "data": {
      "text/html": [
       "<style>#sk-container-id-2 {color: black;background-color: white;}#sk-container-id-2 pre{padding: 0;}#sk-container-id-2 div.sk-toggleable {background-color: white;}#sk-container-id-2 label.sk-toggleable__label {cursor: pointer;display: block;width: 100%;margin-bottom: 0;padding: 0.3em;box-sizing: border-box;text-align: center;}#sk-container-id-2 label.sk-toggleable__label-arrow:before {content: \"▸\";float: left;margin-right: 0.25em;color: #696969;}#sk-container-id-2 label.sk-toggleable__label-arrow:hover:before {color: black;}#sk-container-id-2 div.sk-estimator:hover label.sk-toggleable__label-arrow:before {color: black;}#sk-container-id-2 div.sk-toggleable__content {max-height: 0;max-width: 0;overflow: hidden;text-align: left;background-color: #f0f8ff;}#sk-container-id-2 div.sk-toggleable__content pre {margin: 0.2em;color: black;border-radius: 0.25em;background-color: #f0f8ff;}#sk-container-id-2 input.sk-toggleable__control:checked~div.sk-toggleable__content {max-height: 200px;max-width: 100%;overflow: auto;}#sk-container-id-2 input.sk-toggleable__control:checked~label.sk-toggleable__label-arrow:before {content: \"▾\";}#sk-container-id-2 div.sk-estimator input.sk-toggleable__control:checked~label.sk-toggleable__label {background-color: #d4ebff;}#sk-container-id-2 div.sk-label input.sk-toggleable__control:checked~label.sk-toggleable__label {background-color: #d4ebff;}#sk-container-id-2 input.sk-hidden--visually {border: 0;clip: rect(1px 1px 1px 1px);clip: rect(1px, 1px, 1px, 1px);height: 1px;margin: -1px;overflow: hidden;padding: 0;position: absolute;width: 1px;}#sk-container-id-2 div.sk-estimator {font-family: monospace;background-color: #f0f8ff;border: 1px dotted black;border-radius: 0.25em;box-sizing: border-box;margin-bottom: 0.5em;}#sk-container-id-2 div.sk-estimator:hover {background-color: #d4ebff;}#sk-container-id-2 div.sk-parallel-item::after {content: \"\";width: 100%;border-bottom: 1px solid gray;flex-grow: 1;}#sk-container-id-2 div.sk-label:hover label.sk-toggleable__label {background-color: #d4ebff;}#sk-container-id-2 div.sk-serial::before {content: \"\";position: absolute;border-left: 1px solid gray;box-sizing: border-box;top: 0;bottom: 0;left: 50%;z-index: 0;}#sk-container-id-2 div.sk-serial {display: flex;flex-direction: column;align-items: center;background-color: white;padding-right: 0.2em;padding-left: 0.2em;position: relative;}#sk-container-id-2 div.sk-item {position: relative;z-index: 1;}#sk-container-id-2 div.sk-parallel {display: flex;align-items: stretch;justify-content: center;background-color: white;position: relative;}#sk-container-id-2 div.sk-item::before, #sk-container-id-2 div.sk-parallel-item::before {content: \"\";position: absolute;border-left: 1px solid gray;box-sizing: border-box;top: 0;bottom: 0;left: 50%;z-index: -1;}#sk-container-id-2 div.sk-parallel-item {display: flex;flex-direction: column;z-index: 1;position: relative;background-color: white;}#sk-container-id-2 div.sk-parallel-item:first-child::after {align-self: flex-end;width: 50%;}#sk-container-id-2 div.sk-parallel-item:last-child::after {align-self: flex-start;width: 50%;}#sk-container-id-2 div.sk-parallel-item:only-child::after {width: 0;}#sk-container-id-2 div.sk-dashed-wrapped {border: 1px dashed gray;margin: 0 0.4em 0.5em 0.4em;box-sizing: border-box;padding-bottom: 0.4em;background-color: white;}#sk-container-id-2 div.sk-label label {font-family: monospace;font-weight: bold;display: inline-block;line-height: 1.2em;}#sk-container-id-2 div.sk-label-container {text-align: center;}#sk-container-id-2 div.sk-container {/* jupyter's `normalize.less` sets `[hidden] { display: none; }` but bootstrap.min.css set `[hidden] { display: none !important; }` so we also need the `!important` here to be able to override the default hidden behavior on the sphinx rendered scikit-learn.org. See: https://github.com/scikit-learn/scikit-learn/issues/21755 */display: inline-block !important;position: relative;}#sk-container-id-2 div.sk-text-repr-fallback {display: none;}</style><div id=\"sk-container-id-2\" class=\"sk-top-container\"><div class=\"sk-text-repr-fallback\"><pre>GridSearchCV(cv=3,\n",
       "             estimator=Pipeline(steps=[(&#x27;OneHotEncoder&#x27;,\n",
       "                                        ColumnTransformer(remainder=MinMaxScaler(),\n",
       "                                                          transformers=[(&#x27;onehotencoder&#x27;,\n",
       "                                                                         OneHotEncoder(handle_unknown=&#x27;ignore&#x27;,\n",
       "                                                                                       sparse=False),\n",
       "                                                                         Index([&#x27;component_name&#x27;, &#x27;cultivar_name&#x27;, &#x27;grow_room&#x27;], dtype=&#x27;object&#x27;))])),\n",
       "                                       (&#x27;XGB_model&#x27;,\n",
       "                                        XGBRegressor(base_score=None,\n",
       "                                                     booster=None,\n",
       "                                                     callbacks=None,\n",
       "                                                     colsample_bylevel=No...\n",
       "                                                     n_estimators=100,\n",
       "                                                     n_jobs=None,\n",
       "                                                     num_parallel_tree=None,\n",
       "                                                     predictor=None,\n",
       "                                                     random_state=42,\n",
       "                                                     reg_alpha=None,\n",
       "                                                     reg_lambda=None, ...))]),\n",
       "             n_jobs=-1,\n",
       "             param_grid={&#x27;XGB_model__colsample_bytree&#x27;: [0.3, 0.5, 1],\n",
       "                         &#x27;XGB_model__learning_rate&#x27;: [0.1, 0.2],\n",
       "                         &#x27;XGB_model__max_depth&#x27;: [3, 4],\n",
       "                         &#x27;XGB_model__n_estimators&#x27;: [300, 350],\n",
       "                         &#x27;XGB_model__subsample&#x27;: [0.8, 1]},\n",
       "             scoring=&#x27;neg_root_mean_squared_error&#x27;)</pre><b>In a Jupyter environment, please rerun this cell to show the HTML representation or trust the notebook. <br />On GitHub, the HTML representation is unable to render, please try loading this page with nbviewer.org.</b></div><div class=\"sk-container\" hidden><div class=\"sk-item sk-dashed-wrapped\"><div class=\"sk-label-container\"><div class=\"sk-label sk-toggleable\"><input class=\"sk-toggleable__control sk-hidden--visually\" id=\"sk-estimator-id-8\" type=\"checkbox\" ><label for=\"sk-estimator-id-8\" class=\"sk-toggleable__label sk-toggleable__label-arrow\">GridSearchCV</label><div class=\"sk-toggleable__content\"><pre>GridSearchCV(cv=3,\n",
       "             estimator=Pipeline(steps=[(&#x27;OneHotEncoder&#x27;,\n",
       "                                        ColumnTransformer(remainder=MinMaxScaler(),\n",
       "                                                          transformers=[(&#x27;onehotencoder&#x27;,\n",
       "                                                                         OneHotEncoder(handle_unknown=&#x27;ignore&#x27;,\n",
       "                                                                                       sparse=False),\n",
       "                                                                         Index([&#x27;component_name&#x27;, &#x27;cultivar_name&#x27;, &#x27;grow_room&#x27;], dtype=&#x27;object&#x27;))])),\n",
       "                                       (&#x27;XGB_model&#x27;,\n",
       "                                        XGBRegressor(base_score=None,\n",
       "                                                     booster=None,\n",
       "                                                     callbacks=None,\n",
       "                                                     colsample_bylevel=No...\n",
       "                                                     n_estimators=100,\n",
       "                                                     n_jobs=None,\n",
       "                                                     num_parallel_tree=None,\n",
       "                                                     predictor=None,\n",
       "                                                     random_state=42,\n",
       "                                                     reg_alpha=None,\n",
       "                                                     reg_lambda=None, ...))]),\n",
       "             n_jobs=-1,\n",
       "             param_grid={&#x27;XGB_model__colsample_bytree&#x27;: [0.3, 0.5, 1],\n",
       "                         &#x27;XGB_model__learning_rate&#x27;: [0.1, 0.2],\n",
       "                         &#x27;XGB_model__max_depth&#x27;: [3, 4],\n",
       "                         &#x27;XGB_model__n_estimators&#x27;: [300, 350],\n",
       "                         &#x27;XGB_model__subsample&#x27;: [0.8, 1]},\n",
       "             scoring=&#x27;neg_root_mean_squared_error&#x27;)</pre></div></div></div><div class=\"sk-parallel\"><div class=\"sk-parallel-item\"><div class=\"sk-item\"><div class=\"sk-label-container\"><div class=\"sk-label sk-toggleable\"><input class=\"sk-toggleable__control sk-hidden--visually\" id=\"sk-estimator-id-9\" type=\"checkbox\" ><label for=\"sk-estimator-id-9\" class=\"sk-toggleable__label sk-toggleable__label-arrow\">estimator: Pipeline</label><div class=\"sk-toggleable__content\"><pre>Pipeline(steps=[(&#x27;OneHotEncoder&#x27;,\n",
       "                 ColumnTransformer(remainder=MinMaxScaler(),\n",
       "                                   transformers=[(&#x27;onehotencoder&#x27;,\n",
       "                                                  OneHotEncoder(handle_unknown=&#x27;ignore&#x27;,\n",
       "                                                                sparse=False),\n",
       "                                                  Index([&#x27;component_name&#x27;, &#x27;cultivar_name&#x27;, &#x27;grow_room&#x27;], dtype=&#x27;object&#x27;))])),\n",
       "                (&#x27;XGB_model&#x27;,\n",
       "                 XGBRegressor(base_score=None, booster=None, callbacks=None,\n",
       "                              colsample_bylevel=None, colsample_bynode=None,\n",
       "                              col...\n",
       "                              gamma=None, gpu_id=None, grow_policy=None,\n",
       "                              importance_type=None,\n",
       "                              interaction_constraints=None, learning_rate=None,\n",
       "                              max_bin=None, max_cat_to_onehot=None,\n",
       "                              max_delta_step=None, max_depth=None,\n",
       "                              max_leaves=None, min_child_weight=None,\n",
       "                              missing=nan, monotone_constraints=None,\n",
       "                              n_estimators=100, n_jobs=None,\n",
       "                              num_parallel_tree=None, predictor=None,\n",
       "                              random_state=42, reg_alpha=None, reg_lambda=None, ...))])</pre></div></div></div><div class=\"sk-serial\"><div class=\"sk-item\"><div class=\"sk-serial\"><div class=\"sk-item sk-dashed-wrapped\"><div class=\"sk-label-container\"><div class=\"sk-label sk-toggleable\"><input class=\"sk-toggleable__control sk-hidden--visually\" id=\"sk-estimator-id-10\" type=\"checkbox\" ><label for=\"sk-estimator-id-10\" class=\"sk-toggleable__label sk-toggleable__label-arrow\">OneHotEncoder: ColumnTransformer</label><div class=\"sk-toggleable__content\"><pre>ColumnTransformer(remainder=MinMaxScaler(),\n",
       "                  transformers=[(&#x27;onehotencoder&#x27;,\n",
       "                                 OneHotEncoder(handle_unknown=&#x27;ignore&#x27;,\n",
       "                                               sparse=False),\n",
       "                                 Index([&#x27;component_name&#x27;, &#x27;cultivar_name&#x27;, &#x27;grow_room&#x27;], dtype=&#x27;object&#x27;))])</pre></div></div></div><div class=\"sk-parallel\"><div class=\"sk-parallel-item\"><div class=\"sk-item\"><div class=\"sk-label-container\"><div class=\"sk-label sk-toggleable\"><input class=\"sk-toggleable__control sk-hidden--visually\" id=\"sk-estimator-id-11\" type=\"checkbox\" ><label for=\"sk-estimator-id-11\" class=\"sk-toggleable__label sk-toggleable__label-arrow\">onehotencoder</label><div class=\"sk-toggleable__content\"><pre>Index([&#x27;component_name&#x27;, &#x27;cultivar_name&#x27;, &#x27;grow_room&#x27;], dtype=&#x27;object&#x27;)</pre></div></div></div><div class=\"sk-serial\"><div class=\"sk-item\"><div class=\"sk-estimator sk-toggleable\"><input class=\"sk-toggleable__control sk-hidden--visually\" id=\"sk-estimator-id-12\" type=\"checkbox\" ><label for=\"sk-estimator-id-12\" class=\"sk-toggleable__label sk-toggleable__label-arrow\">OneHotEncoder</label><div class=\"sk-toggleable__content\"><pre>OneHotEncoder(handle_unknown=&#x27;ignore&#x27;, sparse=False)</pre></div></div></div></div></div></div><div class=\"sk-parallel-item\"><div class=\"sk-item\"><div class=\"sk-label-container\"><div class=\"sk-label sk-toggleable\"><input class=\"sk-toggleable__control sk-hidden--visually\" id=\"sk-estimator-id-13\" type=\"checkbox\" ><label for=\"sk-estimator-id-13\" class=\"sk-toggleable__label sk-toggleable__label-arrow\">remainder</label><div class=\"sk-toggleable__content\"><pre>[&#x27;temperature_c&#x27;, &#x27;humidity_rh&#x27;, &#x27;vapor_pressure_deficit&#x27;, &#x27;co2_ppm&#x27;, &#x27;fan_intensity&#x27;, &#x27;light_intensity&#x27;, &#x27;light_on_minutes&#x27;, &#x27;irrigation_minutes&#x27;]</pre></div></div></div><div class=\"sk-serial\"><div class=\"sk-item\"><div class=\"sk-estimator sk-toggleable\"><input class=\"sk-toggleable__control sk-hidden--visually\" id=\"sk-estimator-id-14\" type=\"checkbox\" ><label for=\"sk-estimator-id-14\" class=\"sk-toggleable__label sk-toggleable__label-arrow\">MinMaxScaler</label><div class=\"sk-toggleable__content\"><pre>MinMaxScaler()</pre></div></div></div></div></div></div></div></div><div class=\"sk-item\"><div class=\"sk-estimator sk-toggleable\"><input class=\"sk-toggleable__control sk-hidden--visually\" id=\"sk-estimator-id-15\" type=\"checkbox\" ><label for=\"sk-estimator-id-15\" class=\"sk-toggleable__label sk-toggleable__label-arrow\">XGBRegressor</label><div class=\"sk-toggleable__content\"><pre>XGBRegressor(base_score=None, booster=None, callbacks=None,\n",
       "             colsample_bylevel=None, colsample_bynode=None,\n",
       "             colsample_bytree=None, early_stopping_rounds=None,\n",
       "             enable_categorical=False, eval_metric=None, gamma=None,\n",
       "             gpu_id=None, grow_policy=None, importance_type=None,\n",
       "             interaction_constraints=None, learning_rate=None, max_bin=None,\n",
       "             max_cat_to_onehot=None, max_delta_step=None, max_depth=None,\n",
       "             max_leaves=None, min_child_weight=None, missing=nan,\n",
       "             monotone_constraints=None, n_estimators=100, n_jobs=None,\n",
       "             num_parallel_tree=None, predictor=None, random_state=42,\n",
       "             reg_alpha=None, reg_lambda=None, ...)</pre></div></div></div></div></div></div></div></div></div></div></div></div>"
      ],
      "text/plain": [
       "GridSearchCV(cv=3,\n",
       "             estimator=Pipeline(steps=[('OneHotEncoder',\n",
       "                                        ColumnTransformer(remainder=MinMaxScaler(),\n",
       "                                                          transformers=[('onehotencoder',\n",
       "                                                                         OneHotEncoder(handle_unknown='ignore',\n",
       "                                                                                       sparse=False),\n",
       "                                                                         Index(['component_name', 'cultivar_name', 'grow_room'], dtype='object'))])),\n",
       "                                       ('XGB_model',\n",
       "                                        XGBRegressor(base_score=None,\n",
       "                                                     booster=None,\n",
       "                                                     callbacks=None,\n",
       "                                                     colsample_bylevel=No...\n",
       "                                                     n_estimators=100,\n",
       "                                                     n_jobs=None,\n",
       "                                                     num_parallel_tree=None,\n",
       "                                                     predictor=None,\n",
       "                                                     random_state=42,\n",
       "                                                     reg_alpha=None,\n",
       "                                                     reg_lambda=None, ...))]),\n",
       "             n_jobs=-1,\n",
       "             param_grid={'XGB_model__colsample_bytree': [0.3, 0.5, 1],\n",
       "                         'XGB_model__learning_rate': [0.1, 0.2],\n",
       "                         'XGB_model__max_depth': [3, 4],\n",
       "                         'XGB_model__n_estimators': [300, 350],\n",
       "                         'XGB_model__subsample': [0.8, 1]},\n",
       "             scoring='neg_root_mean_squared_error')"
      ]
     },
     "execution_count": 30,
     "metadata": {},
     "output_type": "execute_result"
    }
   ],
   "source": [
    "XGB_model.fit(X_train, y_train)"
   ]
  },
  {
   "cell_type": "code",
   "execution_count": 31,
   "id": "6ba6ece5-30fb-459c-9c65-408da87d8ccc",
   "metadata": {
    "tags": []
   },
   "outputs": [
    {
     "data": {
      "text/plain": [
       "{'XGB_model__colsample_bytree': 0.3,\n",
       " 'XGB_model__learning_rate': 0.1,\n",
       " 'XGB_model__max_depth': 4,\n",
       " 'XGB_model__n_estimators': 300,\n",
       " 'XGB_model__subsample': 1}"
      ]
     },
     "execution_count": 31,
     "metadata": {},
     "output_type": "execute_result"
    }
   ],
   "source": [
    "XGB_model.best_params_"
   ]
  },
  {
   "cell_type": "code",
   "execution_count": 32,
   "id": "665c1e10-02d8-45a5-b17d-d23bda0a3a9a",
   "metadata": {},
   "outputs": [
    {
     "data": {
      "text/html": [
       "<style>#sk-container-id-3 {color: black;background-color: white;}#sk-container-id-3 pre{padding: 0;}#sk-container-id-3 div.sk-toggleable {background-color: white;}#sk-container-id-3 label.sk-toggleable__label {cursor: pointer;display: block;width: 100%;margin-bottom: 0;padding: 0.3em;box-sizing: border-box;text-align: center;}#sk-container-id-3 label.sk-toggleable__label-arrow:before {content: \"▸\";float: left;margin-right: 0.25em;color: #696969;}#sk-container-id-3 label.sk-toggleable__label-arrow:hover:before {color: black;}#sk-container-id-3 div.sk-estimator:hover label.sk-toggleable__label-arrow:before {color: black;}#sk-container-id-3 div.sk-toggleable__content {max-height: 0;max-width: 0;overflow: hidden;text-align: left;background-color: #f0f8ff;}#sk-container-id-3 div.sk-toggleable__content pre {margin: 0.2em;color: black;border-radius: 0.25em;background-color: #f0f8ff;}#sk-container-id-3 input.sk-toggleable__control:checked~div.sk-toggleable__content {max-height: 200px;max-width: 100%;overflow: auto;}#sk-container-id-3 input.sk-toggleable__control:checked~label.sk-toggleable__label-arrow:before {content: \"▾\";}#sk-container-id-3 div.sk-estimator input.sk-toggleable__control:checked~label.sk-toggleable__label {background-color: #d4ebff;}#sk-container-id-3 div.sk-label input.sk-toggleable__control:checked~label.sk-toggleable__label {background-color: #d4ebff;}#sk-container-id-3 input.sk-hidden--visually {border: 0;clip: rect(1px 1px 1px 1px);clip: rect(1px, 1px, 1px, 1px);height: 1px;margin: -1px;overflow: hidden;padding: 0;position: absolute;width: 1px;}#sk-container-id-3 div.sk-estimator {font-family: monospace;background-color: #f0f8ff;border: 1px dotted black;border-radius: 0.25em;box-sizing: border-box;margin-bottom: 0.5em;}#sk-container-id-3 div.sk-estimator:hover {background-color: #d4ebff;}#sk-container-id-3 div.sk-parallel-item::after {content: \"\";width: 100%;border-bottom: 1px solid gray;flex-grow: 1;}#sk-container-id-3 div.sk-label:hover label.sk-toggleable__label {background-color: #d4ebff;}#sk-container-id-3 div.sk-serial::before {content: \"\";position: absolute;border-left: 1px solid gray;box-sizing: border-box;top: 0;bottom: 0;left: 50%;z-index: 0;}#sk-container-id-3 div.sk-serial {display: flex;flex-direction: column;align-items: center;background-color: white;padding-right: 0.2em;padding-left: 0.2em;position: relative;}#sk-container-id-3 div.sk-item {position: relative;z-index: 1;}#sk-container-id-3 div.sk-parallel {display: flex;align-items: stretch;justify-content: center;background-color: white;position: relative;}#sk-container-id-3 div.sk-item::before, #sk-container-id-3 div.sk-parallel-item::before {content: \"\";position: absolute;border-left: 1px solid gray;box-sizing: border-box;top: 0;bottom: 0;left: 50%;z-index: -1;}#sk-container-id-3 div.sk-parallel-item {display: flex;flex-direction: column;z-index: 1;position: relative;background-color: white;}#sk-container-id-3 div.sk-parallel-item:first-child::after {align-self: flex-end;width: 50%;}#sk-container-id-3 div.sk-parallel-item:last-child::after {align-self: flex-start;width: 50%;}#sk-container-id-3 div.sk-parallel-item:only-child::after {width: 0;}#sk-container-id-3 div.sk-dashed-wrapped {border: 1px dashed gray;margin: 0 0.4em 0.5em 0.4em;box-sizing: border-box;padding-bottom: 0.4em;background-color: white;}#sk-container-id-3 div.sk-label label {font-family: monospace;font-weight: bold;display: inline-block;line-height: 1.2em;}#sk-container-id-3 div.sk-label-container {text-align: center;}#sk-container-id-3 div.sk-container {/* jupyter's `normalize.less` sets `[hidden] { display: none; }` but bootstrap.min.css set `[hidden] { display: none !important; }` so we also need the `!important` here to be able to override the default hidden behavior on the sphinx rendered scikit-learn.org. See: https://github.com/scikit-learn/scikit-learn/issues/21755 */display: inline-block !important;position: relative;}#sk-container-id-3 div.sk-text-repr-fallback {display: none;}</style><div id=\"sk-container-id-3\" class=\"sk-top-container\"><div class=\"sk-text-repr-fallback\"><pre>Pipeline(steps=[(&#x27;OneHotEncoder&#x27;,\n",
       "                 ColumnTransformer(remainder=MinMaxScaler(),\n",
       "                                   transformers=[(&#x27;onehotencoder&#x27;,\n",
       "                                                  OneHotEncoder(handle_unknown=&#x27;ignore&#x27;,\n",
       "                                                                sparse=False),\n",
       "                                                  Index([&#x27;component_name&#x27;, &#x27;cultivar_name&#x27;, &#x27;grow_room&#x27;], dtype=&#x27;object&#x27;))])),\n",
       "                (&#x27;XGB_model&#x27;,\n",
       "                 XGBRegressor(base_score=0.5, booster=&#x27;gbtree&#x27;, callbacks=None,\n",
       "                              colsample_bylevel=1, colsample_bynode=1,\n",
       "                              colsam...\n",
       "                              gamma=0, gpu_id=-1, grow_policy=&#x27;depthwise&#x27;,\n",
       "                              importance_type=None, interaction_constraints=&#x27;&#x27;,\n",
       "                              learning_rate=0.1, max_bin=256,\n",
       "                              max_cat_to_onehot=4, max_delta_step=0,\n",
       "                              max_depth=4, max_leaves=0, min_child_weight=1,\n",
       "                              missing=nan, monotone_constraints=&#x27;()&#x27;,\n",
       "                              n_estimators=300, n_jobs=0, num_parallel_tree=1,\n",
       "                              predictor=&#x27;auto&#x27;, random_state=42, reg_alpha=0,\n",
       "                              reg_lambda=1, ...))])</pre><b>In a Jupyter environment, please rerun this cell to show the HTML representation or trust the notebook. <br />On GitHub, the HTML representation is unable to render, please try loading this page with nbviewer.org.</b></div><div class=\"sk-container\" hidden><div class=\"sk-item sk-dashed-wrapped\"><div class=\"sk-label-container\"><div class=\"sk-label sk-toggleable\"><input class=\"sk-toggleable__control sk-hidden--visually\" id=\"sk-estimator-id-16\" type=\"checkbox\" ><label for=\"sk-estimator-id-16\" class=\"sk-toggleable__label sk-toggleable__label-arrow\">Pipeline</label><div class=\"sk-toggleable__content\"><pre>Pipeline(steps=[(&#x27;OneHotEncoder&#x27;,\n",
       "                 ColumnTransformer(remainder=MinMaxScaler(),\n",
       "                                   transformers=[(&#x27;onehotencoder&#x27;,\n",
       "                                                  OneHotEncoder(handle_unknown=&#x27;ignore&#x27;,\n",
       "                                                                sparse=False),\n",
       "                                                  Index([&#x27;component_name&#x27;, &#x27;cultivar_name&#x27;, &#x27;grow_room&#x27;], dtype=&#x27;object&#x27;))])),\n",
       "                (&#x27;XGB_model&#x27;,\n",
       "                 XGBRegressor(base_score=0.5, booster=&#x27;gbtree&#x27;, callbacks=None,\n",
       "                              colsample_bylevel=1, colsample_bynode=1,\n",
       "                              colsam...\n",
       "                              gamma=0, gpu_id=-1, grow_policy=&#x27;depthwise&#x27;,\n",
       "                              importance_type=None, interaction_constraints=&#x27;&#x27;,\n",
       "                              learning_rate=0.1, max_bin=256,\n",
       "                              max_cat_to_onehot=4, max_delta_step=0,\n",
       "                              max_depth=4, max_leaves=0, min_child_weight=1,\n",
       "                              missing=nan, monotone_constraints=&#x27;()&#x27;,\n",
       "                              n_estimators=300, n_jobs=0, num_parallel_tree=1,\n",
       "                              predictor=&#x27;auto&#x27;, random_state=42, reg_alpha=0,\n",
       "                              reg_lambda=1, ...))])</pre></div></div></div><div class=\"sk-serial\"><div class=\"sk-item sk-dashed-wrapped\"><div class=\"sk-label-container\"><div class=\"sk-label sk-toggleable\"><input class=\"sk-toggleable__control sk-hidden--visually\" id=\"sk-estimator-id-17\" type=\"checkbox\" ><label for=\"sk-estimator-id-17\" class=\"sk-toggleable__label sk-toggleable__label-arrow\">OneHotEncoder: ColumnTransformer</label><div class=\"sk-toggleable__content\"><pre>ColumnTransformer(remainder=MinMaxScaler(),\n",
       "                  transformers=[(&#x27;onehotencoder&#x27;,\n",
       "                                 OneHotEncoder(handle_unknown=&#x27;ignore&#x27;,\n",
       "                                               sparse=False),\n",
       "                                 Index([&#x27;component_name&#x27;, &#x27;cultivar_name&#x27;, &#x27;grow_room&#x27;], dtype=&#x27;object&#x27;))])</pre></div></div></div><div class=\"sk-parallel\"><div class=\"sk-parallel-item\"><div class=\"sk-item\"><div class=\"sk-label-container\"><div class=\"sk-label sk-toggleable\"><input class=\"sk-toggleable__control sk-hidden--visually\" id=\"sk-estimator-id-18\" type=\"checkbox\" ><label for=\"sk-estimator-id-18\" class=\"sk-toggleable__label sk-toggleable__label-arrow\">onehotencoder</label><div class=\"sk-toggleable__content\"><pre>Index([&#x27;component_name&#x27;, &#x27;cultivar_name&#x27;, &#x27;grow_room&#x27;], dtype=&#x27;object&#x27;)</pre></div></div></div><div class=\"sk-serial\"><div class=\"sk-item\"><div class=\"sk-estimator sk-toggleable\"><input class=\"sk-toggleable__control sk-hidden--visually\" id=\"sk-estimator-id-19\" type=\"checkbox\" ><label for=\"sk-estimator-id-19\" class=\"sk-toggleable__label sk-toggleable__label-arrow\">OneHotEncoder</label><div class=\"sk-toggleable__content\"><pre>OneHotEncoder(handle_unknown=&#x27;ignore&#x27;, sparse=False)</pre></div></div></div></div></div></div><div class=\"sk-parallel-item\"><div class=\"sk-item\"><div class=\"sk-label-container\"><div class=\"sk-label sk-toggleable\"><input class=\"sk-toggleable__control sk-hidden--visually\" id=\"sk-estimator-id-20\" type=\"checkbox\" ><label for=\"sk-estimator-id-20\" class=\"sk-toggleable__label sk-toggleable__label-arrow\">remainder</label><div class=\"sk-toggleable__content\"><pre>[&#x27;temperature_c&#x27;, &#x27;humidity_rh&#x27;, &#x27;vapor_pressure_deficit&#x27;, &#x27;co2_ppm&#x27;, &#x27;fan_intensity&#x27;, &#x27;light_intensity&#x27;, &#x27;light_on_minutes&#x27;, &#x27;irrigation_minutes&#x27;]</pre></div></div></div><div class=\"sk-serial\"><div class=\"sk-item\"><div class=\"sk-estimator sk-toggleable\"><input class=\"sk-toggleable__control sk-hidden--visually\" id=\"sk-estimator-id-21\" type=\"checkbox\" ><label for=\"sk-estimator-id-21\" class=\"sk-toggleable__label sk-toggleable__label-arrow\">MinMaxScaler</label><div class=\"sk-toggleable__content\"><pre>MinMaxScaler()</pre></div></div></div></div></div></div></div></div><div class=\"sk-item\"><div class=\"sk-estimator sk-toggleable\"><input class=\"sk-toggleable__control sk-hidden--visually\" id=\"sk-estimator-id-22\" type=\"checkbox\" ><label for=\"sk-estimator-id-22\" class=\"sk-toggleable__label sk-toggleable__label-arrow\">XGBRegressor</label><div class=\"sk-toggleable__content\"><pre>XGBRegressor(base_score=0.5, booster=&#x27;gbtree&#x27;, callbacks=None,\n",
       "             colsample_bylevel=1, colsample_bynode=1, colsample_bytree=0.3,\n",
       "             early_stopping_rounds=None, enable_categorical=False,\n",
       "             eval_metric=None, gamma=0, gpu_id=-1, grow_policy=&#x27;depthwise&#x27;,\n",
       "             importance_type=None, interaction_constraints=&#x27;&#x27;,\n",
       "             learning_rate=0.1, max_bin=256, max_cat_to_onehot=4,\n",
       "             max_delta_step=0, max_depth=4, max_leaves=0, min_child_weight=1,\n",
       "             missing=nan, monotone_constraints=&#x27;()&#x27;, n_estimators=300, n_jobs=0,\n",
       "             num_parallel_tree=1, predictor=&#x27;auto&#x27;, random_state=42,\n",
       "             reg_alpha=0, reg_lambda=1, ...)</pre></div></div></div></div></div></div></div>"
      ],
      "text/plain": [
       "Pipeline(steps=[('OneHotEncoder',\n",
       "                 ColumnTransformer(remainder=MinMaxScaler(),\n",
       "                                   transformers=[('onehotencoder',\n",
       "                                                  OneHotEncoder(handle_unknown='ignore',\n",
       "                                                                sparse=False),\n",
       "                                                  Index(['component_name', 'cultivar_name', 'grow_room'], dtype='object'))])),\n",
       "                ('XGB_model',\n",
       "                 XGBRegressor(base_score=0.5, booster='gbtree', callbacks=None,\n",
       "                              colsample_bylevel=1, colsample_bynode=1,\n",
       "                              colsam...\n",
       "                              gamma=0, gpu_id=-1, grow_policy='depthwise',\n",
       "                              importance_type=None, interaction_constraints='',\n",
       "                              learning_rate=0.1, max_bin=256,\n",
       "                              max_cat_to_onehot=4, max_delta_step=0,\n",
       "                              max_depth=4, max_leaves=0, min_child_weight=1,\n",
       "                              missing=nan, monotone_constraints='()',\n",
       "                              n_estimators=300, n_jobs=0, num_parallel_tree=1,\n",
       "                              predictor='auto', random_state=42, reg_alpha=0,\n",
       "                              reg_lambda=1, ...))])"
      ]
     },
     "execution_count": 32,
     "metadata": {},
     "output_type": "execute_result"
    }
   ],
   "source": [
    "XGB_model.best_estimator_"
   ]
  },
  {
   "cell_type": "code",
   "execution_count": 33,
   "id": "799e85e8-eed1-42da-bbd8-1cc4764922c3",
   "metadata": {},
   "outputs": [
    {
     "data": {
      "text/html": [
       "<div>\n",
       "<style scoped>\n",
       "    .dataframe tbody tr th:only-of-type {\n",
       "        vertical-align: middle;\n",
       "    }\n",
       "\n",
       "    .dataframe tbody tr th {\n",
       "        vertical-align: top;\n",
       "    }\n",
       "\n",
       "    .dataframe thead th {\n",
       "        text-align: right;\n",
       "    }\n",
       "</style>\n",
       "<table border=\"1\" class=\"dataframe\">\n",
       "  <thead>\n",
       "    <tr style=\"text-align: right;\">\n",
       "      <th></th>\n",
       "      <th>XGB_grid_train</th>\n",
       "      <th>XGB_grid_test</th>\n",
       "    </tr>\n",
       "  </thead>\n",
       "  <tbody>\n",
       "    <tr>\n",
       "      <th>R2</th>\n",
       "      <td>0.727567</td>\n",
       "      <td>0.668633</td>\n",
       "    </tr>\n",
       "    <tr>\n",
       "      <th>mae</th>\n",
       "      <td>2.640719</td>\n",
       "      <td>2.925373</td>\n",
       "    </tr>\n",
       "    <tr>\n",
       "      <th>mse</th>\n",
       "      <td>12.589339</td>\n",
       "      <td>15.549506</td>\n",
       "    </tr>\n",
       "    <tr>\n",
       "      <th>rmse</th>\n",
       "      <td>3.548146</td>\n",
       "      <td>3.943286</td>\n",
       "    </tr>\n",
       "  </tbody>\n",
       "</table>\n",
       "</div>"
      ],
      "text/plain": [
       "      XGB_grid_train  XGB_grid_test\n",
       "R2          0.727567       0.668633\n",
       "mae         2.640719       2.925373\n",
       "mse        12.589339      15.549506\n",
       "rmse        3.548146       3.943286"
      ]
     },
     "execution_count": 33,
     "metadata": {},
     "output_type": "execute_result"
    }
   ],
   "source": [
    "XGB_grid_model = train_val(XGB_model, X_train, y_train, X_test, y_test, 'XGB_grid')\n",
    "XGB_grid_model"
   ]
  },
  {
   "cell_type": "markdown",
   "id": "945bbff7-f6f8-41bd-b939-1287e76d2327",
   "metadata": {},
   "source": [
    "-----------------"
   ]
  },
  {
   "cell_type": "markdown",
   "id": "f6d26881-e524-4507-9e3c-dbcb2c7843ba",
   "metadata": {},
   "source": [
    "### Deployment"
   ]
  },
  {
   "cell_type": "code",
   "execution_count": 34,
   "id": "41ceb54a-bf68-4df5-b3c3-7fd1775413f3",
   "metadata": {},
   "outputs": [],
   "source": [
    "import pickle\n",
    "pickle.dump(XGB_model, open('XGB_model', 'wb'))"
   ]
  },
  {
   "cell_type": "code",
   "execution_count": 35,
   "id": "e6955b29-f1dd-4935-876a-2820340bfedf",
   "metadata": {},
   "outputs": [],
   "source": [
    "yield_model = pickle.load(open('XGB_model', 'rb'))"
   ]
  },
  {
   "cell_type": "code",
   "execution_count": 36,
   "id": "54790821-c78e-4522-ae47-5b370ed50ef5",
   "metadata": {},
   "outputs": [],
   "source": [
    "my_dict = {\n",
    "    \"component_name\" : \"Butterhead\",\n",
    "    \"cultivar_name\" : \"Fairly\",\n",
    "    \"temperature_c\" : 22.7,\n",
    "    \"humidity_rh\" : 68.8,\n",
    "    \"vapor_pressure_deficit\" : 0.71,\n",
    "    \"co2_ppm\" : 1145,\n",
    "    \"fan_intensity\" : 148,\n",
    "    \"light_intensity\" : 232,\n",
    "    \"light_on_minutes\" : 45,\n",
    "    \"irrigation_minutes\" : 60,\n",
    "    \"grow_room\" : \"Grow_3\"\n",
    "}"
   ]
  },
  {
   "cell_type": "code",
   "execution_count": 37,
   "id": "186b6b64-606f-48e6-aca7-74c5bc710ae3",
   "metadata": {},
   "outputs": [
    {
     "data": {
      "text/html": [
       "<div>\n",
       "<style scoped>\n",
       "    .dataframe tbody tr th:only-of-type {\n",
       "        vertical-align: middle;\n",
       "    }\n",
       "\n",
       "    .dataframe tbody tr th {\n",
       "        vertical-align: top;\n",
       "    }\n",
       "\n",
       "    .dataframe thead th {\n",
       "        text-align: right;\n",
       "    }\n",
       "</style>\n",
       "<table border=\"1\" class=\"dataframe\">\n",
       "  <thead>\n",
       "    <tr style=\"text-align: right;\">\n",
       "      <th></th>\n",
       "      <th>component_name</th>\n",
       "      <th>cultivar_name</th>\n",
       "      <th>temperature_c</th>\n",
       "      <th>humidity_rh</th>\n",
       "      <th>vapor_pressure_deficit</th>\n",
       "      <th>co2_ppm</th>\n",
       "      <th>fan_intensity</th>\n",
       "      <th>light_intensity</th>\n",
       "      <th>light_on_minutes</th>\n",
       "      <th>irrigation_minutes</th>\n",
       "      <th>grow_room</th>\n",
       "    </tr>\n",
       "  </thead>\n",
       "  <tbody>\n",
       "    <tr>\n",
       "      <th>0</th>\n",
       "      <td>Butterhead</td>\n",
       "      <td>Fairly</td>\n",
       "      <td>22.7</td>\n",
       "      <td>68.8</td>\n",
       "      <td>0.71</td>\n",
       "      <td>1145</td>\n",
       "      <td>148</td>\n",
       "      <td>232</td>\n",
       "      <td>45</td>\n",
       "      <td>60</td>\n",
       "      <td>Grow_3</td>\n",
       "    </tr>\n",
       "  </tbody>\n",
       "</table>\n",
       "</div>"
      ],
      "text/plain": [
       "  component_name cultivar_name  temperature_c  humidity_rh  \\\n",
       "0     Butterhead        Fairly           22.7         68.8   \n",
       "\n",
       "   vapor_pressure_deficit  co2_ppm  fan_intensity  light_intensity  \\\n",
       "0                    0.71     1145            148              232   \n",
       "\n",
       "   light_on_minutes  irrigation_minutes grow_room  \n",
       "0                45                  60    Grow_3  "
      ]
     },
     "execution_count": 37,
     "metadata": {},
     "output_type": "execute_result"
    }
   ],
   "source": [
    "df2 = pd.DataFrame([my_dict])\n",
    "df2"
   ]
  },
  {
   "cell_type": "code",
   "execution_count": 38,
   "id": "4fb3a8f4-adec-4a8f-89d5-9654a7fd4d73",
   "metadata": {},
   "outputs": [
    {
     "name": "stdout",
     "output_type": "stream",
     "text": [
      "The estimate yield of component is 22.24. \n"
     ]
    }
   ],
   "source": [
    "# print(\"The estimate yield of component is {:.2f}. \".format(float(yield_model.predict(df2))))\n",
    "prediction = yield_model.predict(df2)\n",
    "print(\"The estimate yield of component is {:.2f}. \".format(float(prediction)))"
   ]
  },
  {
   "cell_type": "code",
   "execution_count": null,
   "id": "e2658630-b9ab-4501-9f66-4b1f69b54ac1",
   "metadata": {},
   "outputs": [],
   "source": []
  }
 ],
 "metadata": {
  "kernelspec": {
   "display_name": "Python 3 (ipykernel)",
   "language": "python",
   "name": "python3"
  },
  "language_info": {
   "codemirror_mode": {
    "name": "ipython",
    "version": 3
   },
   "file_extension": ".py",
   "mimetype": "text/x-python",
   "name": "python",
   "nbconvert_exporter": "python",
   "pygments_lexer": "ipython3",
   "version": "3.9.12"
  }
 },
 "nbformat": 4,
 "nbformat_minor": 5
}
